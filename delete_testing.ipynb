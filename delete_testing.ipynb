{
 "cells": [
  {
   "cell_type": "code",
   "execution_count": 1,
   "metadata": {},
   "outputs": [],
   "source": [
    "# trying to speed up the loss computation"
   ]
  },
  {
   "cell_type": "code",
   "execution_count": null,
   "metadata": {},
   "outputs": [],
   "source": [
    "from FiLMScope.reconstruction import RunManager, generate_config_dict \n",
    "from FiLMScope.recon_util import tocuda\n",
    "from tqdm import tqdm\n",
    "\n",
    "sample_name = \"skull_with_tool\"\n",
    "gpu_number = \"0\"\n",
    "\n",
    "config_dict = generate_config_dict(sample_name=sample_name, gpu_number=gpu_number, downsample=3,\n",
    "                                   camera_set=\"all\", run_args={\"iters\": 150})\n",
    "run_manager = RunManager(config_dict)"
   ]
  },
  {
   "cell_type": "code",
   "execution_count": 3,
   "metadata": {},
   "outputs": [],
   "source": [
    "for sample in run_manager.image_loader:\n",
    "    break "
   ]
  },
  {
   "cell_type": "code",
   "execution_count": null,
   "metadata": {},
   "outputs": [],
   "source": [
    "outputs = run_manager.run_forward_model()"
   ]
  },
  {
   "cell_type": "code",
   "execution_count": 5,
   "metadata": {},
   "outputs": [],
   "source": [
    "sample_cuda = tocuda(sample)"
   ]
  },
  {
   "cell_type": "code",
   "execution_count": 6,
   "metadata": {},
   "outputs": [],
   "source": [
    "self = run_manager \n",
    "from time import time \n",
    "t1 = time()\n",
    "main_loss, losses, loss_outputs = self.criterion(\n",
    "            sample_cuda[\"imgs\"],\n",
    "            outputs[\"depth\"],\n",
    "            sample_cuda[\"warped_shift_slope_maps\"],\n",
    "            sample_cuda[\"inv_inter_camera_maps\"],\n",
    "            self.reference_shift_slopes,\n",
    "            self.reference_image,\n",
    "            sample_cuda[\"masks\"],\n",
    "            global_mask=self.global_mask)\n",
    "t2 = time()"
   ]
  },
  {
   "cell_type": "code",
   "execution_count": null,
   "metadata": {},
   "outputs": [],
   "source": [
    "t2 - t1"
   ]
  },
  {
   "cell_type": "code",
   "execution_count": null,
   "metadata": {},
   "outputs": [],
   "source": [
    "t1 = time() \n",
    "run_manager.run_epoch(0)\n",
    "t2 = time()"
   ]
  },
  {
   "cell_type": "code",
   "execution_count": null,
   "metadata": {},
   "outputs": [],
   "source": [
    "t2 - t1"
   ]
  },
  {
   "cell_type": "code",
   "execution_count": null,
   "metadata": {},
   "outputs": [],
   "source": []
  }
 ],
 "metadata": {
  "kernelspec": {
   "display_name": "filmscope2",
   "language": "python",
   "name": "python3"
  },
  "language_info": {
   "codemirror_mode": {
    "name": "ipython",
    "version": 3
   },
   "file_extension": ".py",
   "mimetype": "text/x-python",
   "name": "python",
   "nbconvert_exporter": "python",
   "pygments_lexer": "ipython3",
   "version": "3.8.20"
  }
 },
 "nbformat": 4,
 "nbformat_minor": 2
}
