{
 "cells": [
  {
   "cell_type": "code",
   "execution_count": null,
   "metadata": {},
   "outputs": [],
   "source": [
    "import xarray as xr\n",
    "from filmscope.util import convert_to_array_image_numbers\n",
    "import numpy as np\n",
    "from matplotlib import pyplot as plt\n",
    "from filmscope.util import get_preview_image"
   ]
  },
  {
   "cell_type": "code",
   "execution_count": 10,
   "metadata": {},
   "outputs": [],
   "source": [
    "path_to_data = \"/media/Friday/Temporary/Clare/20250116_macaque_brain\"\n",
    "fluoro_filename = path_to_data + \"/brain_20250116_162444_911.nc\" #'/brain_20250116_162420_711.nc'\n",
    "bright_filename = path_to_data + '/brain_20250116_162420_711.nc'\n",
    "bright_filename = path_to_data + '/brain_20250116_162503_208.nc'\n",
    "\n",
    "\n",
    "fluoro_cameras = [13, 15, 20, 22, 25, 27, 32, 34]\n",
    "bright_cameras = [14, 16, 19, 21, 26, 28, 31, 33]\n",
    "\n",
    "bright_cameras = convert_to_array_image_numbers(bright_cameras)\n",
    "fluoro_cameras = convert_to_array_image_numbers(fluoro_cameras)"
   ]
  },
  {
   "cell_type": "code",
   "execution_count": 11,
   "metadata": {},
   "outputs": [],
   "source": [
    "fluoro_dataset = xr.open_dataset(fluoro_filename)\n",
    "bright_dataset = xr.open_dataset(bright_filename)\n",
    "\n"
   ]
  },
  {
   "cell_type": "code",
   "execution_count": 12,
   "metadata": {},
   "outputs": [],
   "source": [
    "# this could definietly be better, \n",
    "# but start by taking only the necessary cameras from one of the dataset \n",
    "x_cams = np.unique(np.concatenate((fluoro_cameras[:, 0], bright_cameras[:, 0])))\n",
    "y_cams = np.unique(np.concatenate((bright_cameras[:, 1], fluoro_cameras[:, 1])))\n",
    "new_dataset = fluoro_dataset.loc[{\"image_x\": x_cams, \"image_y\": y_cams}]"
   ]
  },
  {
   "cell_type": "code",
   "execution_count": null,
   "metadata": {},
   "outputs": [],
   "source": [
    "fluoro = new_dataset.loc[{\"image_x\": 3, \"image_y\": 2}].images.data\n",
    "plt.figure()\n",
    "plt.imshow(fluoro)"
   ]
  },
  {
   "cell_type": "code",
   "execution_count": 14,
   "metadata": {},
   "outputs": [],
   "source": [
    "for var in new_dataset.data_vars:\n",
    "    coords = new_dataset[var].coords \n",
    "    if not (\"image_y\" in coords and \"image_x\" in coords):\n",
    "        continue\n",
    "    for cam_pair in bright_cameras:\n",
    "        bright_d = bright_dataset[var].loc[{\"image_x\": cam_pair[0], \"image_y\": cam_pair[1]}]\n",
    "        new_dataset[var].loc[{\"image_x\": cam_pair[0], \"image_y\": cam_pair[1]}] = bright_d"
   ]
  },
  {
   "cell_type": "code",
   "execution_count": null,
   "metadata": {},
   "outputs": [],
   "source": [
    "bright = new_dataset.loc[{\"image_x\": 2, \"image_y\": 2}].images.data\n",
    "plt.imshow(bright)"
   ]
  },
  {
   "cell_type": "code",
   "execution_count": 16,
   "metadata": {},
   "outputs": [],
   "source": [
    "# then we can save! \n",
    "save_filename = path_to_data + '/combo_fluoro_bright_dataset_0.nc'\n",
    "new_dataset.to_netcdf(save_filename)"
   ]
  },
  {
   "cell_type": "code",
   "execution_count": null,
   "metadata": {},
   "outputs": [],
   "source": []
  },
  {
   "cell_type": "code",
   "execution_count": null,
   "metadata": {},
   "outputs": [],
   "source": [
    "# and code to display\n",
    "image_filename = save_filename\n",
    "image_numbers = [13, 14, 15, 16, \n",
    "                 19, 20, 21, 22,\n",
    "                 25, 26, 27, 28,\n",
    "                 31, 32, 33, 34]\n",
    "downsample = 3\n",
    "img = get_preview_image(image_filename, ensure_grayscale=False, image_numbers=image_numbers, downsample=downsample)\n",
    "\n",
    "# this is not effective, we should change this...\n",
    "xv = int(4096 / downsample) \n",
    "yv = int(2 * 3072 / downsample)\n",
    "img = img[xv:-xv, yv:-yv]\n",
    "\n",
    "plt.imshow(img) \n",
    "ax = plt.gca()\n",
    "ax.set_xticks([])\n",
    "ax.set_yticks([])"
   ]
  }
 ],
 "metadata": {
  "kernelspec": {
   "display_name": "filmscope",
   "language": "python",
   "name": "python3"
  },
  "language_info": {
   "codemirror_mode": {
    "name": "ipython",
    "version": 3
   },
   "file_extension": ".py",
   "mimetype": "text/x-python",
   "name": "python",
   "nbconvert_exporter": "python",
   "pygments_lexer": "ipython3",
   "version": "3.8.20"
  }
 },
 "nbformat": 4,
 "nbformat_minor": 2
}
