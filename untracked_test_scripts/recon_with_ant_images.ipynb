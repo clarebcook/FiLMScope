{
 "cells": [
  {
   "cell_type": "code",
   "execution_count": 2,
   "metadata": {},
   "outputs": [],
   "source": [
    "from filmscope.reconstruction import RunManager, generate_config_dict \n",
    "from filmscope.util import get_timestamp\n",
    "from filmscope.recon_util import get_all_sample_names\n",
    "from filmscope.config import log_folder\n",
    "from tqdm import tqdm\n",
    "from matplotlib import pyplot as plt\n",
    "import os\n",
    "import torch"
   ]
  },
  {
   "cell_type": "code",
   "execution_count": 3,
   "metadata": {},
   "outputs": [],
   "source": [
    "# make a config dict with a random sample name\n",
    "# select the name of a sample previously saved using \"save_new_sample.ipynb\",\n",
    "# the gpu number, and whether or not to log with neptune.ai\n",
    "sample_name = \"ant_photron\"\n",
    "gpu_number = \"2\"\n",
    "use_neptune = True\n",
    "\n",
    "os.environ[\"CUDA_VISIBLE_DEVICES\"] = gpu_number\n",
    "\n",
    "config_dict = generate_config_dict(sample_name=sample_name, gpu_number=gpu_number, downsample=1,\n",
    "                                   camera_set=\"custom\", use_neptune=use_neptune,\n",
    "                                   run_args={\"iters\": 1000, \"batch_size\": 12, \"num_depths\": 64,\n",
    "                                             \"display_freq\": 100},\n",
    "                                   custom_image_numbers=[0, 1, 2],\n",
    "                                   loss_weights={\"smooth\": 5, \"smooth_lambda\": 0}\n",
    "                                   )"
   ]
  },
  {
   "cell_type": "code",
   "execution_count": 4,
   "metadata": {},
   "outputs": [
    {
     "name": "stderr",
     "output_type": "stream",
     "text": [
      "/home/clare/anaconda3/envs/filmscope/lib/python3.8/site-packages/torch/functional.py:513: UserWarning: torch.meshgrid: in an upcoming release, it will be required to pass the indexing argument. (Triggered internally at /opt/conda/conda-bld/pytorch_1724789115405/work/aten/src/ATen/native/TensorShape.cpp:3609.)\n",
      "  return _VF.meshgrid(tensors, **kwargs)  # type: ignore[attr-defined]\n",
      "[neptune] [warning] NeptuneWarning: By default, these monitoring options are disabled in interactive sessions: 'capture_stdout', 'capture_stderr', 'capture_traceback', 'capture_hardware_metrics'. You can set them to 'True' when initializing the run and the monitoring will continue until you call run.stop() or the kernel stops. NOTE: To track the source files, pass their paths to the 'source_code' argument. For help, see: https://docs.neptune.ai/logging/source_code/\n"
     ]
    },
    {
     "name": "stdout",
     "output_type": "stream",
     "text": [
      "[neptune] [info   ] Neptune initialized. Open in the app: https://app.neptune.ai/fourier-lightfield/FLCAM-MVS/e/FLCAM1-4841\n"
     ]
    }
   ],
   "source": [
    "run_manager = RunManager(config_dict)"
   ]
  },
  {
   "cell_type": "code",
   "execution_count": 5,
   "metadata": {},
   "outputs": [
    {
     "name": "stderr",
     "output_type": "stream",
     "text": [
      "100%|██████████| 1000/1000 [00:19<00:00, 51.27it/s]\n"
     ]
    }
   ],
   "source": [
    "\n",
    "# perform reconstruction\n",
    "iters = config_dict[\"run_args\"][\"iters\"]\n",
    "reference_image = run_manager.dataset.reference_image.cpu().squeeze()\n",
    "losses = []\n",
    "for i in tqdm(range(iters)):\n",
    "    log = (i % config_dict[\"run_args\"][\"display_freq\"] == 0) or (i == iters - 1)\n",
    "    mask_images, warp_images, numbers, outputs, loss_values = run_manager.run_epoch(\n",
    "        i, log=(log and config_dict[\"use_neptune\"]))\n",
    "    losses.append(float(loss_values[\"total\"]))\n",
    "\n",
    "    # this section can be edited to change what is recorded\n",
    "    #if log and not config_dict[\"use_neptune\"]:\n",
    "\n",
    "    # logging can also be performed with neptune or saving elsewhere\n",
    "    # but this displays outputs with matplotlib\n",
    "    if i % config_dict[\"run_args\"][\"display_freq\"] == 0 and not config_dict[\"use_neptune\"]:\n",
    "        fig, (ax0, ax1) = plt.subplots(1, 2)\n",
    "        ax1.imshow(outputs[\"depth\"].detach().cpu().squeeze(), cmap='turbo')\n",
    "        ax0.imshow(reference_image, cmap='gray')\n",
    "        fig.suptitle(f\"epoch {i}\")\n",
    "        plt.tight_layout()\n",
    "        plt.show()\n",
    "\n",
    "        plt.figure()\n",
    "        plt.plot(losses)\n",
    "        plt.xlabel(\"iteration\")\n",
    "        plt.ylabel(\"loss\")\n",
    "        plt.title(\"loss\")\n",
    "        plt.show()\n",
    "\n"
   ]
  },
  {
   "cell_type": "code",
   "execution_count": null,
   "metadata": {},
   "outputs": [],
   "source": [
    "a = outputs[\"depth\"].cpu().detach().squeeze()"
   ]
  },
  {
   "cell_type": "code",
   "execution_count": null,
   "metadata": {},
   "outputs": [],
   "source": [
    "plt.imshow(a)#, clim=(-0.8, -0.2))\n",
    "plt.colorbar()"
   ]
  },
  {
   "cell_type": "code",
   "execution_count": null,
   "metadata": {},
   "outputs": [],
   "source": []
  }
 ],
 "metadata": {
  "kernelspec": {
   "display_name": "filmscope",
   "language": "python",
   "name": "python3"
  },
  "language_info": {
   "codemirror_mode": {
    "name": "ipython",
    "version": 3
   },
   "file_extension": ".py",
   "mimetype": "text/x-python",
   "name": "python",
   "nbconvert_exporter": "python",
   "pygments_lexer": "ipython3",
   "version": "3.8.20"
  }
 },
 "nbformat": 4,
 "nbformat_minor": 2
}
