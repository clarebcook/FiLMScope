{
 "cells": [
  {
   "cell_type": "code",
   "execution_count": 1,
   "metadata": {},
   "outputs": [],
   "source": [
    "## information about how to use the script\n",
    "from FiLMScope.recon_util import (add_sample_entry, get_all_sample_names, get_sample_information,\n",
    "                                  get_ss_volume_from_dataset)\n",
    "from FiLMScope.util import play_video\n",
    "from FiLMScope.calibration import CalibrationInfoManager\n",
    "from FiLMScope.datasets import FSDataset\n",
    "import os\n",
    "from matplotlib import pyplot as plt\n",
    "import numpy as np\n",
    "\n",
    "import torch"
   ]
  },
  {
   "cell_type": "code",
   "execution_count": null,
   "metadata": {},
   "outputs": [],
   "source": [
    "# view already saved samples \n",
    "get_all_sample_names()"
   ]
  },
  {
   "cell_type": "code",
   "execution_count": 3,
   "metadata": {},
   "outputs": [],
   "source": [
    "os.environ[\"CUDA_VISIBLE_DEVICES\"] = \"2\""
   ]
  },
  {
   "cell_type": "code",
   "execution_count": 4,
   "metadata": {},
   "outputs": [],
   "source": [
    "# necessary information about the dataset \n",
    "sample_name = \"skull_with_tool\"\n",
    "folder = \"/media/Friday/Temporary/Clare/FiLMScope_paper_data/skull_with_tool\"\n",
    "image_filename = folder + '/skull_with_tool_20240606_134449_008.nc'\n",
    "calibration_filename = folder + '/calibration_information'\n",
    "blank_filename = None "
   ]
  },
  {
   "cell_type": "code",
   "execution_count": 5,
   "metadata": {},
   "outputs": [],
   "source": [
    "# this cell will be deleted\n",
    "# catching up calibration files that didn't include image shape \n",
    "manager = CalibrationInfoManager(calibration_filename)\n",
    "if manager.image_shape is None:\n",
    "    print(\"adding image shape\")\n",
    "    downsample = 1\n",
    "    import xarray as xr \n",
    "    dataset = xr.open_dataset(image_filename)\n",
    "    image_shape = (len(dataset.x), len(dataset.y))\n",
    "    manager.image_shape = image_shape \n",
    "    manager.save_all_info()"
   ]
  },
  {
   "cell_type": "code",
   "execution_count": null,
   "metadata": {},
   "outputs": [],
   "source": [
    "# set up a dataset with just the reference image \n",
    "ref_camera = CalibrationInfoManager(calibration_filename).reference_camera\n",
    "downsample = 4\n",
    "image_numbers = [ref_camera]\n",
    "dataset = FSDataset(\n",
    "    image_filename,\n",
    "    calibration_filename,\n",
    "    image_numbers,\n",
    "    downsample,\n",
    "    (0, 1, 0, 1),\n",
    "    enforce_divisible=-1,\n",
    "    frame_number=-1,\n",
    "    blank_filename=blank_filename\n",
    ")"
   ]
  },
  {
   "cell_type": "code",
   "execution_count": null,
   "metadata": {},
   "outputs": [],
   "source": [
    "# pick a crop level that shows the desired FOV\n",
    "crop = (0, 1024, 0, 768) \n",
    "full_image = np.squeeze(dataset.reference_image)\n",
    "crop_image = full_image[crop[0] : crop[1], crop[2] : crop[3]]\n",
    "\n",
    "plt.imshow(crop_image)\n",
    "\n",
    "plt.figure()\n",
    "plt.imshow(full_image)\n",
    "plt.colorbar()"
   ]
  },
  {
   "cell_type": "code",
   "execution_count": null,
   "metadata": {},
   "outputs": [],
   "source": [
    "# determine crop values\n",
    "shape0 = dataset.images.shape[2]\n",
    "shape1 = dataset.images.shape[3]\n",
    "\n",
    "crop_values = (\n",
    "    crop[0] / shape0,\n",
    "    crop[1] / shape0,\n",
    "    crop[2] / shape1,\n",
    "    crop[3] / shape1,\n",
    ")\n",
    "print(crop_values)"
   ]
  },
  {
   "cell_type": "code",
   "execution_count": null,
   "metadata": {},
   "outputs": [],
   "source": [
    "dataset = None\n",
    "\n",
    "# new dataset with the crops\n",
    "downsample = 7\n",
    "image_numbers = manager.image_numbers\n",
    "dataset = FSDataset(\n",
    "    image_filename,\n",
    "    calibration_filename,\n",
    "    image_numbers,\n",
    "    downsample,\n",
    "    crop_values,\n",
    "    enforce_divisible=-1,\n",
    "    frame_number=-1,\n",
    "    blank_filename=blank_filename\n",
    ")"
   ]
  },
  {
   "cell_type": "code",
   "execution_count": null,
   "metadata": {},
   "outputs": [],
   "source": [
    "plt.imshow(dataset.images[40].squeeze())"
   ]
  },
  {
   "cell_type": "code",
   "execution_count": null,
   "metadata": {},
   "outputs": [],
   "source": [
    "# find depth extents\n",
    "low_plane = -9\n",
    "high_plane = 4.5\n",
    "\n",
    "num = 30\n",
    "depths = np.linspace(low_plane, high_plane, num, endpoint=True)\n",
    "depth_values = torch.from_numpy(depths).to(torch.float32).cuda()\n",
    "\n",
    "batch_size = 10\n",
    "volume = get_ss_volume_from_dataset(dataset, batch_size, depth_values, get_squared=False)\n",
    "volume = volume.squeeze().cpu().numpy()"
   ]
  },
  {
   "cell_type": "code",
   "execution_count": null,
   "metadata": {},
   "outputs": [],
   "source": [
    "play_video(volume)"
   ]
  },
  {
   "cell_type": "code",
   "execution_count": null,
   "metadata": {},
   "outputs": [],
   "source": [
    "idx = 10\n",
    "plt.imshow(volume[idx], cmap='gray')\n",
    "plt.title(\"{:.2f} mm\".format(depths[idx]))"
   ]
  },
  {
   "cell_type": "code",
   "execution_count": 23,
   "metadata": {},
   "outputs": [],
   "source": [
    "# make the full sample entry\n",
    "info = {\n",
    "    \"folder\": folder,\n",
    "    \"sample_name\": sample_name,\n",
    "    \"calibration_filename\": calibration_filename,\n",
    "    \"image_filename\": image_filename,\n",
    "    \"crop_values\": crop_values,\n",
    "    \"depth_range\": (low_plane, high_plane),\n",
    "    \"blank_filename\": blank_filename,\n",
    "}"
   ]
  },
  {
   "cell_type": "code",
   "execution_count": null,
   "metadata": {},
   "outputs": [],
   "source": [
    "# and save it!\n",
    "add_sample_entry(sample_name, info, overwrite=False)"
   ]
  },
  {
   "cell_type": "code",
   "execution_count": null,
   "metadata": {},
   "outputs": [],
   "source": []
  }
 ],
 "metadata": {
  "kernelspec": {
   "display_name": "filmscope2",
   "language": "python",
   "name": "python3"
  },
  "language_info": {
   "codemirror_mode": {
    "name": "ipython",
    "version": 3
   },
   "file_extension": ".py",
   "mimetype": "text/x-python",
   "name": "python",
   "nbconvert_exporter": "python",
   "pygments_lexer": "ipython3",
   "version": "3.8.20"
  }
 },
 "nbformat": 4,
 "nbformat_minor": 2
}
